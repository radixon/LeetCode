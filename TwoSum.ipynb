{
 "cells": [
  {
   "cell_type": "markdown",
   "id": "89f4f879",
   "metadata": {},
   "source": [
    "# Brute Force"
   ]
  },
  {
   "cell_type": "code",
   "execution_count": 1,
   "id": "b55200f7",
   "metadata": {},
   "outputs": [],
   "source": [
    "class Solution(object):\n",
    "    def twoSum(self, nums, target):\n",
    "        \"\"\"\n",
    "        :type nums: List[int]\n",
    "        :type target: int\n",
    "        :rtype: List[int]\n",
    "        \"\"\"\n",
    "        output = [None]\n",
    "        for i in range(0,len(nums),1):\n",
    "            for j in range(i+1,len(nums), 1):\n",
    "                response = nums[i] + nums[j]\n",
    "                if response == target:\n",
    "                    output = [i,j]\n",
    "                    return output"
   ]
  },
  {
   "cell_type": "code",
   "execution_count": 2,
   "id": "58893f30",
   "metadata": {},
   "outputs": [],
   "source": [
    "def main():\n",
    "    nums = [3,3]\n",
    "    target = 6\n",
    "    response = Solution()\n",
    "    value = response.twoSum(nums,target)\n",
    "    print(value)"
   ]
  },
  {
   "cell_type": "code",
   "execution_count": 3,
   "id": "9ee86262",
   "metadata": {},
   "outputs": [
    {
     "name": "stdout",
     "output_type": "stream",
     "text": [
      "[0, 1]\n"
     ]
    }
   ],
   "source": [
    "if __name__ == '__main__':\n",
    "    main()"
   ]
  },
  {
   "cell_type": "markdown",
   "id": "bd994e2e",
   "metadata": {},
   "source": [
    "# Optimized Speed && Memory Usage"
   ]
  },
  {
   "cell_type": "code",
   "execution_count": 4,
   "id": "6f17372f",
   "metadata": {},
   "outputs": [],
   "source": [
    "class Solution(object):\n",
    "    def twoSum(self, nums, target):\n",
    "        \"\"\"\n",
    "        :type nums: List[int]\n",
    "        :type target: int\n",
    "        :rtype: List[int]\n",
    "        \"\"\"\n",
    "        output = [None]\n",
    "        for i in range(0,len(nums),1):\n",
    "            value = target - nums[i]\n",
    "            if value in nums:\n",
    "                j = nums.index(value)\n",
    "                if j !=i:\n",
    "                    output = [i,j]\n",
    "                    return output"
   ]
  },
  {
   "cell_type": "code",
   "execution_count": 5,
   "id": "77fc8bb4",
   "metadata": {},
   "outputs": [],
   "source": [
    "def main():\n",
    "    nums = [2,7,11,15]\n",
    "    target = 9\n",
    "    response = Solution()\n",
    "    value = response.twoSum(nums,target)\n",
    "    print(value)"
   ]
  },
  {
   "cell_type": "code",
   "execution_count": 6,
   "id": "daf8f6d6",
   "metadata": {},
   "outputs": [
    {
     "name": "stdout",
     "output_type": "stream",
     "text": [
      "[0, 1]\n"
     ]
    }
   ],
   "source": [
    "if __name__ == '__main__':\n",
    "    main()"
   ]
  },
  {
   "cell_type": "code",
   "execution_count": null,
   "id": "5c780eb7",
   "metadata": {},
   "outputs": [],
   "source": []
  }
 ],
 "metadata": {
  "kernelspec": {
   "display_name": "Python 3 (ipykernel)",
   "language": "python",
   "name": "python3"
  },
  "language_info": {
   "codemirror_mode": {
    "name": "ipython",
    "version": 3
   },
   "file_extension": ".py",
   "mimetype": "text/x-python",
   "name": "python",
   "nbconvert_exporter": "python",
   "pygments_lexer": "ipython3",
   "version": "3.9.7"
  }
 },
 "nbformat": 4,
 "nbformat_minor": 5
}
