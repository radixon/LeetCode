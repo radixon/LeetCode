{
 "cells": [
  {
   "cell_type": "markdown",
   "id": "a0ee4249",
   "metadata": {},
   "source": [
    "# Brute Force"
   ]
  },
  {
   "cell_type": "code",
   "execution_count": 1,
   "id": "30c930c7",
   "metadata": {},
   "outputs": [],
   "source": [
    "class Solution:\n",
    "    def containsDuplicate(self, nums: list[int]) -> bool:\n",
    "        nums.sort()\n",
    "        dicti = {}\n",
    "        for i in nums:\n",
    "            if i in dicti:\n",
    "                return True                \n",
    "            else:\n",
    "                dicti[i] = 1\n",
    "        return False"
   ]
  },
  {
   "cell_type": "code",
   "execution_count": 2,
   "id": "7cd4285c",
   "metadata": {},
   "outputs": [],
   "source": [
    "def main():\n",
    "    response1 = Solution()\n",
    "    nums = [1,2,3,1]\n",
    "    print(\"Example 1: \",response1.containsDuplicate(nums))\n",
    "    response2 = Solution()\n",
    "    nums = [1,2,3,4]\n",
    "    print(\"Example 2: \",response2.containsDuplicate(nums))\n",
    "    response3 = Solution()\n",
    "    nums = [1,1,1,3,3,4,3,2,4,2]\n",
    "    print(\"Example 3: \",response3.containsDuplicate(nums))"
   ]
  },
  {
   "cell_type": "code",
   "execution_count": 3,
   "id": "73d37bc5",
   "metadata": {},
   "outputs": [
    {
     "name": "stdout",
     "output_type": "stream",
     "text": [
      "Example 1:  True\n",
      "Example 2:  False\n",
      "Example 3:  True\n"
     ]
    }
   ],
   "source": [
    "if __name__ == '__main__':\n",
    "    main()"
   ]
  },
  {
   "cell_type": "markdown",
   "id": "f2e33526-2890-476d-b7a4-96659602a9d6",
   "metadata": {},
   "source": [
    "# Optimized"
   ]
  },
  {
   "cell_type": "code",
   "execution_count": 4,
   "id": "fe552475",
   "metadata": {},
   "outputs": [],
   "source": [
    "class Solution:\n",
    "    def containsDuplicate(self, nums: list[int]) -> bool:\n",
    "        return len(nums) != len(list(set(nums)))"
   ]
  },
  {
   "cell_type": "code",
   "execution_count": 5,
   "id": "d8d2c77f",
   "metadata": {},
   "outputs": [],
   "source": [
    "def main():\n",
    "    response1 = Solution()\n",
    "    nums = [1,2,3,1]\n",
    "    print(\"Example 1: \",response1.containsDuplicate(nums))\n",
    "    response2 = Solution()\n",
    "    nums = [1,2,3,4]\n",
    "    print(\"Example 2: \",response2.containsDuplicate(nums))\n",
    "    response3 = Solution()\n",
    "    nums = [1,1,1,3,3,4,3,2,4,2]\n",
    "    print(\"Example 3: \",response3.containsDuplicate(nums))"
   ]
  },
  {
   "cell_type": "code",
   "execution_count": 6,
   "id": "7dd74a61",
   "metadata": {},
   "outputs": [
    {
     "name": "stdout",
     "output_type": "stream",
     "text": [
      "Example 1:  True\n",
      "Example 2:  False\n",
      "Example 3:  True\n"
     ]
    }
   ],
   "source": [
    "if __name__ == '__main__':\n",
    "    main()"
   ]
  },
  {
   "cell_type": "code",
   "execution_count": null,
   "id": "2a4b4627-b92c-4acf-9af4-2d497b8b61b0",
   "metadata": {},
   "outputs": [],
   "source": []
  }
 ],
 "metadata": {
  "kernelspec": {
   "display_name": "Python 3 (ipykernel)",
   "language": "python",
   "name": "python3"
  },
  "language_info": {
   "codemirror_mode": {
    "name": "ipython",
    "version": 3
   },
   "file_extension": ".py",
   "mimetype": "text/x-python",
   "name": "python",
   "nbconvert_exporter": "python",
   "pygments_lexer": "ipython3",
   "version": "3.9.7"
  }
 },
 "nbformat": 4,
 "nbformat_minor": 5
}
